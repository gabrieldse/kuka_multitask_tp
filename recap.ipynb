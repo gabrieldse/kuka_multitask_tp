{
 "cells": [
  {
   "cell_type": "markdown",
   "id": "9937c316",
   "metadata": {},
   "source": [
    "# Reminder of Jacobian and Direct Kinematics\n",
    "\n",
    "\\section*{Jacobian Computation for a 7-DOF Robot Arm}\n",
    "\n",
    "The Jacobian matrix relates joint velocities to the end-effector's linear and angular velocities:\n",
    "$\n",
    "\\dot{\\mathbf{p}} = \\mathbf{J} \\dot{\\boldsymbol{\\theta}},\n",
    "$\n",
    "where:\n",
    "$\n",
    "\\mathbf{J} =\n",
    "\\begin{bmatrix}\n",
    "\\mathbf{J}_v \\\\ \\mathbf{J}_\\omega\n",
    "\\end{bmatrix},\n",
    "$\n",
    "with \\(\\mathbf{J}_v \\in \\mathbb{R}^{3 \\times N}\\) for linear velocity and \\(\\mathbf{J}_\\omega \\in \\mathbb{R}^{3 \\times N}\\) for angular velocity.\n",
    "\n",
    "Each joint's transformation matrix is given by:\n",
    "$\n",
    "\\mathbf{T}_i =\n",
    "\\begin{bmatrix}\n",
    "\\cos\\theta_i & -\\sin\\theta_i & 0 & d_i \\\\\n",
    "\\cos\\alpha_i \\sin\\theta_i & \\cos\\alpha_i \\cos\\theta_i & -\\sin\\alpha_i & -r_i \\sin\\alpha_i \\\\\n",
    "\\sin\\alpha_i \\sin\\theta_i & \\sin\\alpha_i \\cos\\theta_i & \\cos\\alpha_i & r_i \\cos\\alpha_i \\\\\n",
    "0 & 0 & 0 & 1\n",
    "\\end{bmatrix}.\n",
    "$\n",
    "\n",
    "The position of joint \\(i\\) and its orientation axis are:\n",
    "$\n",
    "\\mathbf{p}_i = \\mathbf{T}_i[1:3, 4], \\quad \\mathbf{z}_i = \\mathbf{T}_i[1:3, 3].\n",
    "$\n",
    "\n",
    "The relative position vector from joint \\(i\\) to the end-effector is:\n",
    "$\n",
    "\\mathbf{l}_i = \\mathbf{p}_0 - \\mathbf{p}_i.\n",
    "$\n",
    "\n",
    "The Jacobian matrix is computed column-by-column as:\n",
    "$\n",
    "\\mathbf{J}[:, i] =\n",
    "\\begin{bmatrix}\n",
    "\\mathbf{z}_i \\times \\mathbf{l}_i \\\\ \\mathbf{z}_i\n",
    "\\end{bmatrix},\n",
    "$\n",
    "where \\(\\times\\) is the cross product.\n"
   ]
  },
  {
   "cell_type": "code",
   "execution_count": 10,
   "id": "f8bf826a-dd64-4599-8f11-0ee720e76e23",
   "metadata": {},
   "outputs": [
    {
     "data": {
      "text/plain": [
       "7-element Vector{Float64}:\n",
       " 0.0\n",
       " 0.0\n",
       " 0.0\n",
       " 0.0\n",
       " 0.0\n",
       " 0.0\n",
       " 0.0"
      ]
     },
     "metadata": {},
     "output_type": "display_data"
    }
   ],
   "source": [
    "zeros(7)"
   ]
  },
  {
   "cell_type": "markdown",
   "id": "e5ffdb3f",
   "metadata": {},
   "source": [
    "# Pseudo inverse"
   ]
  }
 ],
 "metadata": {
  "kernelspec": {
   "display_name": "Julia 1.10.5",
   "language": "julia",
   "name": "julia-1.10"
  },
  "language_info": {
   "file_extension": ".jl",
   "mimetype": "application/julia",
   "name": "julia",
   "version": "1.10.5"
  }
 },
 "nbformat": 4,
 "nbformat_minor": 5
}
