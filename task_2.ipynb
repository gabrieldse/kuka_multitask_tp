{
 "cells": [
  {
   "cell_type": "code",
   "execution_count": 1,
   "metadata": {},
   "outputs": [],
   "source": [
    "using Plots\n",
    "using Printf\n",
    "\n",
    "# Path to resources\n",
    "PATHCSIM=\"/home/gabriel/Polytech/S9/kuka_multitache/\";\n",
    "include(\"/home/gabriel/Polytech/S9/kuka_multitache/lib-robotique.jl\"); \n",
    "include(\"/home/gabriel/Polytech/S9/kuka_multitache/lib-CSim.jl\");"
   ]
  },
  {
   "cell_type": "code",
   "execution_count": 3,
   "metadata": {},
   "outputs": [
    {
     "data": {
      "text/plain": [
       "cininCoM (generic function with 5 methods)"
      ]
     },
     "metadata": {},
     "output_type": "display_data"
    }
   ],
   "source": [
    "function cininCoM(θinit,rob,CoMtarget,step,do_plot=1,max_iterations=200,tol=1e-3,dt=0.05)\n",
    "    println(\"[Task CoM movement along X & Y] Starting Task CoM along X & Y  ...\")\n",
    "    formatted_CoMtarget = join([@sprintf(\"%.2f\", x) for x in CoMtarget], \", \")\n",
    "    println(\"[Task CoM movement along X & Y] Goal CoM's position = \", formatted_CoMtarget )\n",
    "\n",
    "\n",
    "    \"\"\"\n",
    "    Perform inverse kinematics to move the robot's center of mass to the `CoMtarget`.\n",
    "\n",
    "    Returns 3x1 vector of the trajectory_CoM of traslations.\n",
    "    Returns Nx1 vector of the trajectory_θ of motor angles.\n",
    "\n",
    "    Parameters:\n",
    "        θd - angle velocity\n",
    "    \"\"\"\n",
    "\n",
    "    # Init values\n",
    "    trajectory_CoM = Vector{Vector{Float64}}()\n",
    "    trajectory_θ = Vector{Vector{Float64}}()\n",
    "    θcurrent = θinit\n",
    "    e_CoM = [sum(rob.r);sum(rob.r);sum(rob.r)]\n",
    "    i = 1\n",
    "\n",
    "    println(\"[Task CoM movement along X & Y] Iterating...\")\n",
    "    while (norm(e_CoM) > tol)\n",
    "        # 1 - Get current position via MGD\n",
    "        CoMcurrent = CoM(θcurrent,rob)\n",
    "        CoMcurrent = CoMcurrent[1:3]\n",
    "        \n",
    "        # CoMcurrent = CoMcurrent[1:3,4]\n",
    "        push!(trajectory_θ,θcurrent)\n",
    "\n",
    "        # 2 - Caclulate error (Δx = velocity)\n",
    "        e_CoM = CoMtarget - CoMcurrent\n",
    "        J = JacobianCoM(θinit,rob,CoMcurrent)\n",
    "        J_trans = J[1:3, :]\n",
    "\n",
    "        # 3 - Compute Δθ to correct error\n",
    "        θd = pinv(J_trans) * e_CoM./step #CoMcurrent[3] -\n",
    "\n",
    "        # 4 - Update current angle\n",
    "        θcurrent += θd\n",
    "        setjointposition(clientID,θcurrent,7,0,objectname_kuka)\n",
    "        push!(trajectory_CoM,CoMcurrent)\n",
    "        sleep(dt)\n",
    "\n",
    "        i = i + 1\n",
    "        if (i == max_iterations)\n",
    "            println(\"[Task CoM movement along X & Y] Done in \",i,\" steps. Error norm = \",@sprintf(\"%.3f\",norm(e_CoM)),\" [m]\")\n",
    "            break\n",
    "        end\n",
    "    end\n",
    "\n",
    "    if (do_plot == 1)\n",
    "        CoM_value_x = [element[1] for element in trajectory_CoM]\n",
    "        CoM_value_y = [element[2] for element in trajectory_CoM]\n",
    "        pCoM_xy = plot(CoM_value_x, label=\"CoMₓ\", xlabel=\"Iteration\", ylabel=\"Position\", title=\"CoM Components (X & Y)\")\n",
    "        plot!(pCoM_xy, CoM_value_y, label=\"CoMᵧ\")\n",
    "    \n",
    "        pθ = hcat(trajectory_θ...).*180/pi\n",
    "        pθ2 =  plot(pθ', label=[\"θ₁\" \"θ₂\" \"θ₃\" \"θ₄\" \"θ₅\" \"θ₆\" \"θ₇\"], xlabel=\"Iteration\", ylabel=\"Motors angles\", title=\"Motors angles\")\n",
    "\n",
    "        p = plot(pCoM_xy, pθ2, layout=(2, 1))\n",
    "        display(p)\n",
    "    end\n",
    "    \n",
    "\n",
    "    formatted_trajector_θ = join([@sprintf(\"%.2f\", x) for x in trajectory_θ[end].* 180/pi], \", \")\n",
    "    println(\"[Task Hier.] Final θ angles = \", formatted_trajector_θ)\n",
    "    return trajectory_CoM, trajectory_θ\n",
    "end"
   ]
  },
  {
   "cell_type": "code",
   "execution_count": 4,
   "metadata": {},
   "outputs": [
    {
     "name": "stdout",
     "output_type": "stream",
     "text": [
      "Connection error\n"
     ]
    }
   ],
   "source": [
    "global clientID=startsimulation(simx_opmode_oneshot)\n",
    "if clientID==0 println(\"Connected\")\n",
    "    else println(\"Connection error\")\n",
    "end\n",
    "\n",
    "# Main logic\n",
    "init_pos()\n",
    "sleep(2)\n",
    "\n",
    "global rob=CreateRobotKukaLwr();\n",
    "global θinit=[0.143019, -0.109465, -0.011994, -1.1788, -0.154233, 0.93555, 0.264868];\n",
    "global CoM0=[-0.0844, -0.01223, 0.6370];\n",
    "\n",
    "CoMtarget = [0, 0.1 , CoM0[3]]\n",
    "\n",
    "# Calculate Inverse kinematics\n",
    "trajectory_CoM, trajectory_θ = cininCoM(θinit,rob,CoMtarget,50)"
   ]
  }
 ],
 "metadata": {
  "kernelspec": {
   "display_name": "Julia 1.11.1",
   "language": "julia",
   "name": "julia-1.11"
  },
  "language_info": {
   "file_extension": ".jl",
   "mimetype": "application/julia",
   "name": "julia",
   "version": "1.11.1"
  }
 },
 "nbformat": 4,
 "nbformat_minor": 2
}
